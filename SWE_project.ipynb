{
  "cells": [
    {
      "cell_type": "markdown",
      "source": [
        "## Run the following cells to run the server, and use the README provided in the Test folder to run the test.\n",
        " "
      ],
      "metadata": {
        "id": "LO04fAQbuq8P"
      }
    },
    {
      "cell_type": "code",
      "execution_count": 1,
      "metadata": {
        "colab": {
          "base_uri": "https://localhost:8080/"
        },
        "id": "rn0ljhzLgUj9",
        "outputId": "c806e801-f91a-4448-a94b-a39e6177c147"
      },
      "outputs": [
        {
          "output_type": "stream",
          "name": "stdout",
          "text": [
            "Looking in indexes: https://pypi.org/simple, https://us-python.pkg.dev/colab-wheels/public/simple/\n",
            "Collecting django\n",
            "  Downloading Django-3.2.13-py3-none-any.whl (7.9 MB)\n",
            "\u001b[K     |████████████████████████████████| 7.9 MB 29.2 MB/s \n",
            "\u001b[?25hCollecting asgiref<4,>=3.3.2\n",
            "  Downloading asgiref-3.5.2-py3-none-any.whl (22 kB)\n",
            "Requirement already satisfied: sqlparse>=0.2.2 in /usr/local/lib/python3.7/dist-packages (from django) (0.4.2)\n",
            "Requirement already satisfied: pytz in /usr/local/lib/python3.7/dist-packages (from django) (2022.1)\n",
            "Requirement already satisfied: typing-extensions in /usr/local/lib/python3.7/dist-packages (from asgiref<4,>=3.3.2->django) (4.2.0)\n",
            "Installing collected packages: asgiref, django\n",
            "Successfully installed asgiref-3.5.2 django-3.2.13\n",
            "Looking in indexes: https://pypi.org/simple, https://us-python.pkg.dev/colab-wheels/public/simple/\n",
            "Collecting sentencepiece\n",
            "  Downloading sentencepiece-0.1.96-cp37-cp37m-manylinux_2_17_x86_64.manylinux2014_x86_64.whl (1.2 MB)\n",
            "\u001b[K     |████████████████████████████████| 1.2 MB 18.7 MB/s \n",
            "\u001b[?25hInstalling collected packages: sentencepiece\n",
            "Successfully installed sentencepiece-0.1.96\n"
          ]
        }
      ],
      "source": [
        "!pip install django\n",
        "!pip install sentencepiece"
      ]
    },
    {
      "cell_type": "code",
      "source": [
        "!git clone https://github.com/ramezmaher/X_GEN.git"
      ],
      "metadata": {
        "id": "8HDHqBEPfZ57",
        "colab": {
          "base_uri": "https://localhost:8080/"
        },
        "outputId": "bb5fe0b6-8309-4288-b131-cf1586bc667f"
      },
      "execution_count": 2,
      "outputs": [
        {
          "output_type": "stream",
          "name": "stdout",
          "text": [
            "Cloning into 'X_GEN'...\n",
            "remote: Enumerating objects: 59, done.\u001b[K\n",
            "remote: Counting objects: 100% (59/59), done.\u001b[K\n",
            "remote: Compressing objects: 100% (49/49), done.\u001b[K\n",
            "remote: Total 59 (delta 6), reused 59 (delta 6), pack-reused 0\u001b[K\n",
            "Unpacking objects: 100% (59/59), done.\n"
          ]
        }
      ]
    },
    {
      "cell_type": "code",
      "source": [
        "import gdown\n",
        "\n",
        "dest = \"/content/X_GEN/XRay_WebApp/Backend/input/model.pt\" # path\n",
        "gdown.download(output=dest, quiet=False, id=\"1VYAjzeIhvLD67ZhkGcYknxp7nSsYrs7G\")"
      ],
      "metadata": {
        "colab": {
          "base_uri": "https://localhost:8080/",
          "height": 105
        },
        "id": "Dt3WyLitpUV9",
        "outputId": "6d1d6732-c070-4039-9bb9-a9e3eee2b82b"
      },
      "execution_count": 3,
      "outputs": [
        {
          "output_type": "stream",
          "name": "stderr",
          "text": [
            "Downloading...\n",
            "From: https://drive.google.com/uc?id=1VYAjzeIhvLD67ZhkGcYknxp7nSsYrs7G\n",
            "To: /content/X_GEN/XRay_WebApp/Backend/input/model.pt\n",
            "100%|██████████| 1.99G/1.99G [00:43<00:00, 45.6MB/s]\n"
          ]
        },
        {
          "output_type": "execute_result",
          "data": {
            "text/plain": [
              "'/content/X_GEN/XRay_WebApp/Backend/input/model.pt'"
            ],
            "application/vnd.google.colaboratory.intrinsic+json": {
              "type": "string"
            }
          },
          "metadata": {},
          "execution_count": 3
        }
      ]
    },
    {
      "cell_type": "markdown",
      "source": [
        "### The link in second line resulting from the cell below is the address of the server."
      ],
      "metadata": {
        "id": "NL6Qzsr6u5JC"
      }
    },
    {
      "cell_type": "code",
      "execution_count": 4,
      "metadata": {
        "colab": {
          "base_uri": "https://localhost:8080/",
          "height": 53
        },
        "id": "cEsDx9RvhEo6",
        "outputId": "f3b8ae2d-278a-4ecf-eaa4-179c3a28b81e"
      },
      "outputs": [
        {
          "output_type": "stream",
          "name": "stdout",
          "text": [
            "/content/X_GEN/XRay_WebApp\n"
          ]
        },
        {
          "output_type": "execute_result",
          "data": {
            "text/plain": [
              "'https://h1z4rl91kaa-496ff2e9c6d22116-8000-colab.googleusercontent.com/'"
            ],
            "application/vnd.google.colaboratory.intrinsic+json": {
              "type": "string"
            }
          },
          "metadata": {},
          "execution_count": 4
        }
      ],
      "source": [
        "%cd /content/X_GEN/XRay_WebApp\n",
        "from google.colab.output import eval_js\n",
        "eval_js(\"google.colab.kernel.proxyPort(8000)\")"
      ]
    },
    {
      "cell_type": "code",
      "execution_count": 5,
      "metadata": {
        "colab": {
          "base_uri": "https://localhost:8080/"
        },
        "id": "LvMU7g2Hhiwy",
        "outputId": "9d2e90e3-cfb2-4310-a25d-c893f1d8405e"
      },
      "outputs": [
        {
          "output_type": "stream",
          "name": "stdout",
          "text": [
            "Watching for file changes with StatReloader\n",
            "Performing system checks...\n",
            "\n",
            "System check identified no issues (0 silenced).\n",
            "May 26, 2022 - 19:02:19\n",
            "Django version 3.2.13, using settings 'XRay_WebApp.settings'\n",
            "Starting development server at http://127.0.0.1:8000/\n",
            "Quit the server with CONTROL-C.\n",
            "[26/May/2022 19:02:26] \u001b[m\"GET / HTTP/1.1\" 200 1186\u001b[0m\n",
            "[26/May/2022 19:02:28] \u001b[m\"GET / HTTP/1.1\" 200 1186\u001b[0m\n",
            "Not Found: /favicon.ico\n",
            "[26/May/2022 19:02:28] \u001b[33m\"GET /favicon.ico HTTP/1.1\" 404 2365\u001b[0m\n",
            "Downloading: \"https://github.com/pytorch/vision/archive/v0.10.0.zip\" to /root/.cache/torch/hub/v0.10.0.zip\n",
            "Downloading: \"https://download.pytorch.org/models/densenet121-a639ec97.pth\" to /root/.cache/torch/hub/checkpoints/densenet121-a639ec97.pth\n",
            "100% 30.8M/30.8M [00:00<00:00, 332MB/s]\n",
            "[26/May/2022 19:03:06] \u001b[m\"POST / HTTP/1.1\" 200 386129\u001b[0m\n",
            "Not Found: /favicon.ico\n",
            "[26/May/2022 19:03:09] \u001b[33m\"GET /favicon.ico HTTP/1.1\" 404 2365\u001b[0m\n"
          ]
        }
      ],
      "source": [
        "!python manage.py runserver 8000"
      ]
    }
  ],
  "metadata": {
    "colab": {
      "collapsed_sections": [],
      "name": "SWE project",
      "provenance": []
    },
    "kernelspec": {
      "display_name": "Python 3",
      "name": "python3"
    },
    "language_info": {
      "name": "python"
    },
    "accelerator": "GPU"
  },
  "nbformat": 4,
  "nbformat_minor": 0
}